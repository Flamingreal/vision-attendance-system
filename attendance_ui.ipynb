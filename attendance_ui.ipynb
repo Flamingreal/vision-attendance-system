{
 "cells": [
  {
   "cell_type": "code",
   "execution_count": 1,
   "id": "5defecf0-2d8c-4478-8f95-ed15fb412012",
   "metadata": {},
   "outputs": [
    {
     "name": "stderr",
     "output_type": "stream",
     "text": [
      "C:\\Users\\25247\\anaconda3\\envs\\facenet_env\\lib\\site-packages\\facenet_pytorch\\models\\mtcnn.py:34: FutureWarning: You are using `torch.load` with `weights_only=False` (the current default value), which uses the default pickle module implicitly. It is possible to construct malicious pickle data which will execute arbitrary code during unpickling (See https://github.com/pytorch/pytorch/blob/main/SECURITY.md#untrusted-models for more details). In a future release, the default value for `weights_only` will be flipped to `True`. This limits the functions that could be executed during unpickling. Arbitrary objects will no longer be allowed to be loaded via this mode unless they are explicitly allowlisted by the user via `torch.serialization.add_safe_globals`. We recommend you start setting `weights_only=True` for any use case where you don't have full control of the loaded file. Please open an issue on GitHub for any issues related to this experimental feature.\n",
      "  state_dict = torch.load(state_dict_path)\n",
      "C:\\Users\\25247\\anaconda3\\envs\\facenet_env\\lib\\site-packages\\facenet_pytorch\\models\\mtcnn.py:79: FutureWarning: You are using `torch.load` with `weights_only=False` (the current default value), which uses the default pickle module implicitly. It is possible to construct malicious pickle data which will execute arbitrary code during unpickling (See https://github.com/pytorch/pytorch/blob/main/SECURITY.md#untrusted-models for more details). In a future release, the default value for `weights_only` will be flipped to `True`. This limits the functions that could be executed during unpickling. Arbitrary objects will no longer be allowed to be loaded via this mode unless they are explicitly allowlisted by the user via `torch.serialization.add_safe_globals`. We recommend you start setting `weights_only=True` for any use case where you don't have full control of the loaded file. Please open an issue on GitHub for any issues related to this experimental feature.\n",
      "  state_dict = torch.load(state_dict_path)\n",
      "C:\\Users\\25247\\anaconda3\\envs\\facenet_env\\lib\\site-packages\\facenet_pytorch\\models\\mtcnn.py:132: FutureWarning: You are using `torch.load` with `weights_only=False` (the current default value), which uses the default pickle module implicitly. It is possible to construct malicious pickle data which will execute arbitrary code during unpickling (See https://github.com/pytorch/pytorch/blob/main/SECURITY.md#untrusted-models for more details). In a future release, the default value for `weights_only` will be flipped to `True`. This limits the functions that could be executed during unpickling. Arbitrary objects will no longer be allowed to be loaded via this mode unless they are explicitly allowlisted by the user via `torch.serialization.add_safe_globals`. We recommend you start setting `weights_only=True` for any use case where you don't have full control of the loaded file. Please open an issue on GitHub for any issues related to this experimental feature.\n",
      "  state_dict = torch.load(state_dict_path)\n",
      "C:\\Users\\25247\\anaconda3\\envs\\facenet_env\\lib\\site-packages\\facenet_pytorch\\models\\inception_resnet_v1.py:329: FutureWarning: You are using `torch.load` with `weights_only=False` (the current default value), which uses the default pickle module implicitly. It is possible to construct malicious pickle data which will execute arbitrary code during unpickling (See https://github.com/pytorch/pytorch/blob/main/SECURITY.md#untrusted-models for more details). In a future release, the default value for `weights_only` will be flipped to `True`. This limits the functions that could be executed during unpickling. Arbitrary objects will no longer be allowed to be loaded via this mode unless they are explicitly allowlisted by the user via `torch.serialization.add_safe_globals`. We recommend you start setting `weights_only=True` for any use case where you don't have full control of the loaded file. Please open an issue on GitHub for any issues related to this experimental feature.\n",
      "  state_dict = torch.load(cached_file)\n"
     ]
    },
    {
     "ename": "SystemExit",
     "evalue": "0",
     "output_type": "error",
     "traceback": [
      "An exception has occurred, use %tb to see the full traceback.\n",
      "\u001b[1;31mSystemExit\u001b[0m\u001b[1;31m:\u001b[0m 0\n"
     ]
    },
    {
     "name": "stderr",
     "output_type": "stream",
     "text": [
      "C:\\Users\\25247\\anaconda3\\envs\\facenet_env\\lib\\site-packages\\IPython\\core\\interactiveshell.py:3534: UserWarning: To exit: use 'exit', 'quit', or Ctrl-D.\n",
      "  warn(\"To exit: use 'exit', 'quit', or Ctrl-D.\", stacklevel=1)\n"
     ]
    }
   ],
   "source": [
    "import sys\n",
    "import cv2\n",
    "import numpy as np\n",
    "import torch\n",
    "from facenet_pytorch import MTCNN, InceptionResnetV1\n",
    "from PyQt5.QtWidgets import QApplication, QWidget, QPushButton, QLabel, QVBoxLayout, QFileDialog\n",
    "from PyQt5.QtGui import QPixmap, QImage\n",
    "from PyQt5.QtCore import Qt\n",
    "from facenet_pytorch import MTCNN, InceptionResnetV1\n",
    "from scipy.spatial.distance import cosine\n",
    "\n",
    "# Load stored face embeddings\n",
    "embeddings_path = \"face_embeddings.npy\"\n",
    "face_embeddings = np.load(embeddings_path, allow_pickle=True).item()\n",
    "\n",
    "# Initialize FaceNet and MTCNN models\n",
    "device = 'cuda' if cv2.cuda.getCudaEnabledDeviceCount() > 0 else 'cpu'\n",
    "mtcnn = MTCNN(keep_all=False, device=device)\n",
    "resnet = InceptionResnetV1(pretrained='vggface2').eval().to(device)\n",
    "\n",
    "class FaceRecognitionApp(QWidget):\n",
    "    def __init__(self):\n",
    "        super().__init__()\n",
    "\n",
    "        # UI setup\n",
    "        self.setWindowTitle(\"Face Recognition Attendance System\")\n",
    "        self.setGeometry(100, 100, 600, 400)\n",
    "\n",
    "        self.layout = QVBoxLayout()\n",
    "\n",
    "        self.load_image_button = QPushButton(\"Load Image\")\n",
    "        self.load_image_button.clicked.connect(self.load_image)\n",
    "        self.layout.addWidget(self.load_image_button)\n",
    "\n",
    "        self.image_label = QLabel(\"No image loaded\")\n",
    "        self.image_label.setAlignment(Qt.AlignCenter)\n",
    "        self.layout.addWidget(self.image_label)\n",
    "\n",
    "        self.result_label = QLabel(\"Result: None\")\n",
    "        self.result_label.setAlignment(Qt.AlignCenter)\n",
    "        self.layout.addWidget(self.result_label)\n",
    "\n",
    "        self.setLayout(self.layout)\n",
    "\n",
    "    def load_image(self):\n",
    "        # Open file dialog to load an image\n",
    "        file_name, _ = QFileDialog.getOpenFileName(self, \"Select Image\", \"\", \"Images (*.png *.jpg *.jpeg)\")\n",
    "        if file_name:\n",
    "            self.process_image(file_name)\n",
    "\n",
    "    def process_image(self, file_path):\n",
    "        # Read image using OpenCV\n",
    "        img = cv2.imread(file_path)\n",
    "        img_rgb = cv2.cvtColor(img, cv2.COLOR_BGR2RGB)\n",
    "\n",
    "        # Display loaded image on UI\n",
    "        height, width, channel = img_rgb.shape\n",
    "        bytes_per_line = channel * width\n",
    "        q_img = QImage(img_rgb.data, width, height, bytes_per_line, QImage.Format_RGB888)\n",
    "        self.image_label.setPixmap(QPixmap.fromImage(q_img).scaled(300, 300, Qt.KeepAspectRatio))\n",
    "\n",
    "        # Detect face and extract embeddings\n",
    "        face = mtcnn(img_rgb)\n",
    "        if face is not None:\n",
    "            with torch.no_grad():\n",
    "                embedding = resnet(face.unsqueeze(0).to(device)).cpu().numpy()[0]\n",
    "\n",
    "            matched_id, min_distance = self.match_face(embedding)\n",
    "            if min_distance < 0.8:\n",
    "                self.result_label.setText(f\"Result: Recognized as {matched_id} (distance: {min_distance:.2f})\")\n",
    "            else:\n",
    "                self.result_label.setText(\"Result: Unknown person\")\n",
    "        else:\n",
    "            self.result_label.setText(\"Result: No face detected\")\n",
    "\n",
    "    def match_face(self, embedding):\n",
    "        # Compare embedding with stored embeddings to find best match\n",
    "        min_distance = float('inf')\n",
    "        matched_id = None\n",
    "        for person_id, stored_embedding in face_embeddings.items():\n",
    "            distance = cosine(embedding, stored_embedding)\n",
    "            if distance < min_distance:\n",
    "                min_distance = distance\n",
    "                matched_id = person_id\n",
    "        return matched_id, min_distance\n",
    "\n",
    "if __name__ == \"__main__\":\n",
    "    app = QApplication(sys.argv)\n",
    "    window = FaceRecognitionApp()\n",
    "    window.show()\n",
    "    sys.exit(app.exec_())"
   ]
  },
  {
   "cell_type": "code",
   "execution_count": null,
   "id": "4d697b15-692b-4bb3-8dfc-b8c4a2312450",
   "metadata": {},
   "outputs": [],
   "source": []
  }
 ],
 "metadata": {
  "kernelspec": {
   "display_name": "Python 3 (ipykernel)",
   "language": "python",
   "name": "python3"
  },
  "language_info": {
   "codemirror_mode": {
    "name": "ipython",
    "version": 3
   },
   "file_extension": ".py",
   "mimetype": "text/x-python",
   "name": "python",
   "nbconvert_exporter": "python",
   "pygments_lexer": "ipython3",
   "version": "3.9.21"
  }
 },
 "nbformat": 4,
 "nbformat_minor": 5
}
