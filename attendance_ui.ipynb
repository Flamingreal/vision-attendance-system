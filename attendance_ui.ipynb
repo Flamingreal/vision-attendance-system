{
 "cells": [
  {
   "cell_type": "code",
   "execution_count": 1,
   "id": "5defecf0-2d8c-4478-8f95-ed15fb412012",
   "metadata": {},
   "outputs": [
    {
     "name": "stderr",
     "output_type": "stream",
     "text": [
      "C:\\Users\\25247\\anaconda3\\envs\\facenet_env\\lib\\site-packages\\facenet_pytorch\\models\\inception_resnet_v1.py:329: FutureWarning: You are using `torch.load` with `weights_only=False` (the current default value), which uses the default pickle module implicitly. It is possible to construct malicious pickle data which will execute arbitrary code during unpickling (See https://github.com/pytorch/pytorch/blob/main/SECURITY.md#untrusted-models for more details). In a future release, the default value for `weights_only` will be flipped to `True`. This limits the functions that could be executed during unpickling. Arbitrary objects will no longer be allowed to be loaded via this mode unless they are explicitly allowlisted by the user via `torch.serialization.add_safe_globals`. We recommend you start setting `weights_only=True` for any use case where you don't have full control of the loaded file. Please open an issue on GitHub for any issues related to this experimental feature.\n",
      "  state_dict = torch.load(cached_file)\n",
      "C:\\Users\\25247\\anaconda3\\envs\\facenet_env\\lib\\site-packages\\facenet_pytorch\\models\\mtcnn.py:34: FutureWarning: You are using `torch.load` with `weights_only=False` (the current default value), which uses the default pickle module implicitly. It is possible to construct malicious pickle data which will execute arbitrary code during unpickling (See https://github.com/pytorch/pytorch/blob/main/SECURITY.md#untrusted-models for more details). In a future release, the default value for `weights_only` will be flipped to `True`. This limits the functions that could be executed during unpickling. Arbitrary objects will no longer be allowed to be loaded via this mode unless they are explicitly allowlisted by the user via `torch.serialization.add_safe_globals`. We recommend you start setting `weights_only=True` for any use case where you don't have full control of the loaded file. Please open an issue on GitHub for any issues related to this experimental feature.\n",
      "  state_dict = torch.load(state_dict_path)\n",
      "C:\\Users\\25247\\anaconda3\\envs\\facenet_env\\lib\\site-packages\\facenet_pytorch\\models\\mtcnn.py:79: FutureWarning: You are using `torch.load` with `weights_only=False` (the current default value), which uses the default pickle module implicitly. It is possible to construct malicious pickle data which will execute arbitrary code during unpickling (See https://github.com/pytorch/pytorch/blob/main/SECURITY.md#untrusted-models for more details). In a future release, the default value for `weights_only` will be flipped to `True`. This limits the functions that could be executed during unpickling. Arbitrary objects will no longer be allowed to be loaded via this mode unless they are explicitly allowlisted by the user via `torch.serialization.add_safe_globals`. We recommend you start setting `weights_only=True` for any use case where you don't have full control of the loaded file. Please open an issue on GitHub for any issues related to this experimental feature.\n",
      "  state_dict = torch.load(state_dict_path)\n",
      "C:\\Users\\25247\\anaconda3\\envs\\facenet_env\\lib\\site-packages\\facenet_pytorch\\models\\mtcnn.py:132: FutureWarning: You are using `torch.load` with `weights_only=False` (the current default value), which uses the default pickle module implicitly. It is possible to construct malicious pickle data which will execute arbitrary code during unpickling (See https://github.com/pytorch/pytorch/blob/main/SECURITY.md#untrusted-models for more details). In a future release, the default value for `weights_only` will be flipped to `True`. This limits the functions that could be executed during unpickling. Arbitrary objects will no longer be allowed to be loaded via this mode unless they are explicitly allowlisted by the user via `torch.serialization.add_safe_globals`. We recommend you start setting `weights_only=True` for any use case where you don't have full control of the loaded file. Please open an issue on GitHub for any issues related to this experimental feature.\n",
      "  state_dict = torch.load(state_dict_path)\n"
     ]
    },
    {
     "ename": "SystemExit",
     "evalue": "0",
     "output_type": "error",
     "traceback": [
      "An exception has occurred, use %tb to see the full traceback.\n",
      "\u001b[1;31mSystemExit\u001b[0m\u001b[1;31m:\u001b[0m 0\n"
     ]
    },
    {
     "name": "stderr",
     "output_type": "stream",
     "text": [
      "C:\\Users\\25247\\anaconda3\\envs\\facenet_env\\lib\\site-packages\\IPython\\core\\interactiveshell.py:3534: UserWarning: To exit: use 'exit', 'quit', or Ctrl-D.\n",
      "  warn(\"To exit: use 'exit', 'quit', or Ctrl-D.\", stacklevel=1)\n"
     ]
    }
   ],
   "source": [
    "import sys\n",
    "import nbimporter\n",
    "from PyQt5.QtWidgets import QApplication, QMainWindow, QAction, QLabel, QFileDialog, QVBoxLayout, QWidget, QInputDialog\n",
    "from PyQt5.QtGui import QPixmap, QImage\n",
    "from PyQt5.QtCore import Qt\n",
    "import cv2\n",
    "from match_faces import match_face, add_new_face\n",
    "\n",
    "class AttendanceUI(QMainWindow):\n",
    "    def __init__(self):\n",
    "        super().__init__()\n",
    "\n",
    "        self.setWindowTitle(\"Face Recognition Attendance\")\n",
    "        self.setGeometry(100, 100, 600, 500)\n",
    "\n",
    "        # Main widget\n",
    "        self.central_widget = QWidget()\n",
    "        self.setCentralWidget(self.central_widget)\n",
    "\n",
    "        # Layout\n",
    "        self.layout = QVBoxLayout()\n",
    "        self.image_label = QLabel(\"No image loaded.\")\n",
    "        self.image_label.setAlignment(Qt.AlignCenter)\n",
    "        self.result_label = QLabel(\"Recognition Result: None\")\n",
    "        self.result_label.setAlignment(Qt.AlignCenter)\n",
    "\n",
    "        self.layout.addWidget(self.image_label)\n",
    "        self.layout.addWidget(self.result_label)\n",
    "        self.central_widget.setLayout(self.layout)\n",
    "\n",
    "        # Toolbar\n",
    "        toolbar = self.addToolBar(\"Main Toolbar\")\n",
    "\n",
    "        load_action = QAction(\"Load Image\", self)\n",
    "        load_action.triggered.connect(self.load_and_recognize)\n",
    "        toolbar.addAction(load_action)\n",
    "\n",
    "        add_face_action = QAction(\"Add New Face\", self)\n",
    "        add_face_action.triggered.connect(self.add_new_face_ui)\n",
    "        toolbar.addAction(add_face_action)\n",
    "\n",
    "    def load_and_recognize(self):\n",
    "        file_name, _ = QFileDialog.getOpenFileName(self, \"Select Image\", \"\", \"Images (*.png *.jpg *.jpeg)\")\n",
    "        if file_name:\n",
    "            self.load_image(file_name)\n",
    "            matched_id, distance = match_face(file_name)\n",
    "            if matched_id != \"Unknown\" and matched_id is not None:\n",
    "                self.result_label.setText(f\"Matched: {matched_id} (Distance: {distance:.3f})\")\n",
    "            else:\n",
    "                self.result_label.setText(\"No match found.\")\n",
    "\n",
    "    def add_new_face_ui(self):\n",
    "        file_name, _ = QFileDialog.getOpenFileName(self, \"Select Image\", \"\", \"Images (*.png *.jpg *.jpeg)\")\n",
    "        if file_name:\n",
    "            person_id, ok = QInputDialog.getText(self, \"Add New Face\", \"Enter Person ID:\")\n",
    "            if ok and person_id:\n",
    "                result = add_new_face(file_name, person_id)\n",
    "                self.result_label.setText(result)\n",
    "\n",
    "    def load_image(self, file_path):\n",
    "        img_bgr = cv2.imread(file_path)\n",
    "        if img_bgr is None:\n",
    "            self.result_label.setText(\"Could not read image.\")\n",
    "            return\n",
    "\n",
    "        img_rgb = cv2.cvtColor(img_bgr, cv2.COLOR_BGR2RGB)\n",
    "        height, width, channel = img_rgb.shape\n",
    "        bytes_per_line = 3 * width\n",
    "        q_img = QImage(img_rgb.data, width, height, bytes_per_line, QImage.Format_RGB888)\n",
    "        self.image_label.setPixmap(QPixmap.fromImage(q_img).scaled(300, 300, Qt.KeepAspectRatio))\n",
    "\n",
    "if __name__ == \"__main__\":\n",
    "    app = QApplication(sys.argv)\n",
    "    ui = AttendanceUI()\n",
    "    ui.show()\n",
    "    sys.exit(app.exec_())"
   ]
  },
  {
   "cell_type": "code",
   "execution_count": null,
   "id": "c05d529b-2253-47a5-bbb3-4e09f0b45000",
   "metadata": {},
   "outputs": [],
   "source": []
  },
  {
   "cell_type": "code",
   "execution_count": null,
   "id": "2dcae2c9-81ba-48b0-8e92-6800dabdbebf",
   "metadata": {},
   "outputs": [],
   "source": []
  }
 ],
 "metadata": {
  "kernelspec": {
   "display_name": "Python 3 (ipykernel)",
   "language": "python",
   "name": "python3"
  },
  "language_info": {
   "codemirror_mode": {
    "name": "ipython",
    "version": 3
   },
   "file_extension": ".py",
   "mimetype": "text/x-python",
   "name": "python",
   "nbconvert_exporter": "python",
   "pygments_lexer": "ipython3",
   "version": "3.9.21"
  }
 },
 "nbformat": 4,
 "nbformat_minor": 5
}
