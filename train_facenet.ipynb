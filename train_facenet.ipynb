{
 "cells": [
  {
   "cell_type": "code",
   "execution_count": 1,
   "id": "a1c6d443-8571-42c5-bda8-fcea36780430",
   "metadata": {},
   "outputs": [
    {
     "name": "stdout",
     "output_type": "stream",
     "text": [
      "Training completed. face_embeddings.npy saved successfully.\n"
     ]
    }
   ],
   "source": [
    "import os\n",
    "import numpy as np\n",
    "import cv2\n",
    "import torch\n",
    "from facenet_pytorch import InceptionResnetV1\n",
    "\n",
    "# Set dataset path\n",
    "dataset_path = r\"C:\\Code\\Alan Guedes - CSMPR21_data\\reference_faces\"\n",
    "device = torch.device(\"cuda\" if torch.cuda.is_available() else \"cpu\")\n",
    "\n",
    "# Load FaceNet model\n",
    "model = InceptionResnetV1(pretrained='vggface2').to(device).eval()\n",
    "\n",
    "# Store face embeddings\n",
    "face_embeddings = {}\n",
    "\n",
    "# Process each image in the dataset\n",
    "for file in os.listdir(dataset_path):\n",
    "    if file.lower().endswith(('.jpg', '.png', '.jpeg')):\n",
    "        person_name = file.split(\".\")[0]  \n",
    "        image_path = os.path.join(dataset_path, file)\n",
    "\n",
    "        # Read image\n",
    "        img = cv2.imread(image_path)\n",
    "        img = cv2.cvtColor(img, cv2.COLOR_BGR2RGB)\n",
    "        img = cv2.resize(img, (160, 160)) / 255.0\n",
    "        img = torch.tensor(img, dtype=torch.float32).permute(2, 0, 1).unsqueeze(0).to(device)\n",
    "\n",
    "        # Extract face embedding\n",
    "        with torch.no_grad():\n",
    "            face_embedding = model(img).cpu().numpy().flatten()\n",
    "\n",
    "        # Store correctly formatted name\n",
    "        face_embeddings[person_name] = face_embedding\n",
    "\n",
    "# Save embeddings\n",
    "np.save(\"face_embeddings.npy\", face_embeddings)\n",
    "print(\"Training completed. face_embeddings.npy saved successfully.\")"
   ]
  },
  {
   "cell_type": "code",
   "execution_count": null,
   "id": "7f3e9db1-11ae-431b-9948-d5b58f2215b7",
   "metadata": {},
   "outputs": [],
   "source": []
  }
 ],
 "metadata": {
  "kernelspec": {
   "display_name": "Python 3 (ipykernel)",
   "language": "python",
   "name": "python3"
  },
  "language_info": {
   "codemirror_mode": {
    "name": "ipython",
    "version": 3
   },
   "file_extension": ".py",
   "mimetype": "text/x-python",
   "name": "python",
   "nbconvert_exporter": "python",
   "pygments_lexer": "ipython3",
   "version": "3.9.21"
  }
 },
 "nbformat": 4,
 "nbformat_minor": 5
}
