{
 "cells": [
  {
   "cell_type": "code",
   "execution_count": 2,
   "id": "93dafa3e-3596-4ae1-9c8f-cb1e877285b6",
   "metadata": {},
   "outputs": [
    {
     "name": "stdout",
     "output_type": "stream",
     "text": [
      "Match found: Test_Ref_01 (Similarity: 0.395)\n"
     ]
    }
   ],
   "source": [
    "import numpy as np\n",
    "import torch\n",
    "from facenet_pytorch import MTCNN, InceptionResnetV1\n",
    "import cv2\n",
    "from scipy.spatial.distance import cosine\n",
    "\n",
    "# Paths\n",
    "embeddings_path = r\"C:\\Code\\vision-attendance-system\\face_embeddings.npy\"\n",
    "test_image_path = r\"C:\\Code\\Alan Guedes - CSMPR21_data\\captured_faces\\camera_1\\01\\141526_110523_face_1.png\"\n",
    "\n",
    "# Set device\n",
    "device = torch.device(\"cuda\" if torch.cuda.is_available() else \"cpu\")\n",
    "\n",
    "# Load FaceNet model\n",
    "model = InceptionResnetV1(pretrained=\"vggface2\").to(device).eval()\n",
    "mtcnn = MTCNN(keep_all=False, device=device)\n",
    "\n",
    "# Load stored embeddings\n",
    "face_embeddings = np.load(embeddings_path, allow_pickle=True).item()\n",
    "\n",
    "# Read test image\n",
    "img = cv2.imread(test_image_path)\n",
    "img = cv2.cvtColor(img, cv2.COLOR_BGR2RGB)\n",
    "\n",
    "# Detect face\n",
    "face = mtcnn(img)\n",
    "if face is None:\n",
    "    print(\"No face detected in the image.\")\n",
    "    exit()\n",
    "\n",
    "# Extract embeddings\n",
    "face_embedding = model(face.unsqueeze(0).to(device)).detach().cpu().numpy().flatten()\n",
    "\n",
    "# Compare with stored embeddings\n",
    "best_match = None\n",
    "best_distance = float(\"inf\")\n",
    "\n",
    "for person_id, embedding in face_embeddings.items():\n",
    "    distance = cosine(face_embedding, embedding)\n",
    "    if distance < best_distance:\n",
    "        best_match = person_id\n",
    "        best_distance = distance\n",
    "\n",
    "# Set threshold\n",
    "THRESHOLD = 0.9\n",
    "\n",
    "if best_distance < THRESHOLD:\n",
    "    print(f\"Match found: {best_match} (Similarity: {1 - best_distance:.3f})\")\n",
    "else:\n",
    "    print(f\"No match found (Closest: {best_match}, Distance: {best_distance:.3f})\")"
   ]
  },
  {
   "cell_type": "code",
   "execution_count": null,
   "id": "de1962cd-006d-46bb-9b45-2c270db24604",
   "metadata": {},
   "outputs": [],
   "source": []
  }
 ],
 "metadata": {
  "kernelspec": {
   "display_name": "Python 3 (ipykernel)",
   "language": "python",
   "name": "python3"
  },
  "language_info": {
   "codemirror_mode": {
    "name": "ipython",
    "version": 3
   },
   "file_extension": ".py",
   "mimetype": "text/x-python",
   "name": "python",
   "nbconvert_exporter": "python",
   "pygments_lexer": "ipython3",
   "version": "3.9.21"
  }
 },
 "nbformat": 4,
 "nbformat_minor": 5
}
