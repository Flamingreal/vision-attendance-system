{
 "cells": [
  {
   "cell_type": "code",
   "execution_count": 3,
   "id": "0fc9db8f-0b16-4776-b429-9cb8263e682e",
   "metadata": {},
   "outputs": [
    {
     "name": "stdout",
     "output_type": "stream",
     "text": [
      "Face embeddings saved to C:\\Code\\vision-attendance-system\\face_embeddings.npy\n"
     ]
    }
   ],
   "source": [
    "import torch\n",
    "import numpy as np\n",
    "import os\n",
    "import cv2\n",
    "from facenet_pytorch import InceptionResnetV1, MTCNN\n",
    "\n",
    "# Set device\n",
    "device = torch.device(\"cuda\" if torch.cuda.is_available() else \"cpu\")\n",
    "\n",
    "# Load FaceNet model\n",
    "model = InceptionResnetV1(pretrained=\"vggface2\").to(device).eval()\n",
    "\n",
    "# Initialize MTCNN face detector\n",
    "mtcnn = MTCNN(keep_all=False, device=device)\n",
    "\n",
    "# Set dataset path\n",
    "dataset_path = r\"C:\\Code\\Alan Guedes - CSMPR21_data\\test_reference_images\"\n",
    "\n",
    "# Dictionary to store embeddings\n",
    "face_embeddings = {}\n",
    "\n",
    "# Iterate through test_reference_images directory\n",
    "for file_name in os.listdir(dataset_path):\n",
    "    file_path = os.path.join(dataset_path, file_name)\n",
    "\n",
    "    # Read image\n",
    "    img = cv2.imread(file_path)\n",
    "    if img is None:\n",
    "        print(f\"Warning: Could not read {file_name}. Skipping...\")\n",
    "        continue\n",
    "\n",
    "    # Convert color format\n",
    "    img = cv2.cvtColor(img, cv2.COLOR_BGR2RGB)\n",
    "\n",
    "    # Detect face\n",
    "    face = mtcnn(img)\n",
    "    if face is None:\n",
    "        print(f\"Warning: No face detected in {file_name}. Skipping...\")\n",
    "        continue\n",
    "\n",
    "    # Extract embedding\n",
    "    with torch.no_grad():\n",
    "        embedding = model(face.unsqueeze(0).to(device)).cpu().numpy().flatten()\n",
    "\n",
    "    # Store in dictionary\n",
    "    person_id = os.path.splitext(file_name)[0]  # Use filename as ID\n",
    "    face_embeddings[person_id] = embedding\n",
    "\n",
    "# Save embeddings to .npy file\n",
    "embeddings_path = r\"C:\\Code\\vision-attendance-system\\face_embeddings.npy\"\n",
    "np.save(embeddings_path, face_embeddings)\n",
    "print(f\"Face embeddings saved to {embeddings_path}\")"
   ]
  },
  {
   "cell_type": "code",
   "execution_count": null,
   "id": "b2b16afd-e820-4616-a91d-194a1e252edc",
   "metadata": {},
   "outputs": [],
   "source": []
  }
 ],
 "metadata": {
  "kernelspec": {
   "display_name": "Python 3 (ipykernel)",
   "language": "python",
   "name": "python3"
  },
  "language_info": {
   "codemirror_mode": {
    "name": "ipython",
    "version": 3
   },
   "file_extension": ".py",
   "mimetype": "text/x-python",
   "name": "python",
   "nbconvert_exporter": "python",
   "pygments_lexer": "ipython3",
   "version": "3.9.21"
  }
 },
 "nbformat": 4,
 "nbformat_minor": 5
}
