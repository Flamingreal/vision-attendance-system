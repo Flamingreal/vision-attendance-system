{
 "cells": [
  {
   "cell_type": "code",
   "execution_count": 2,
   "id": "2eda6def-872a-4d80-86d8-f6bbec1ae503",
   "metadata": {},
   "outputs": [
    {
     "name": "stdout",
     "output_type": "stream",
     "text": [
      "Recognized: Ref_1072 (distance: 1.13)\n"
     ]
    }
   ],
   "source": [
    "import torch\n",
    "import numpy as np\n",
    "import cv2\n",
    "from facenet_pytorch import InceptionResnetV1\n",
    "\n",
    "# Load FaceNet model and embeddings\n",
    "device = torch.device(\"cuda\" if torch.cuda.is_available() else \"cpu\")\n",
    "model = InceptionResnetV1(pretrained='vggface2').to(device).eval()\n",
    "face_embeddings = np.load(\"face_embeddings.npy\", allow_pickle=True).item()\n",
    "\n",
    "# Load test image\n",
    "img_path = r\"C:\\Code\\Alan Guedes - CSMPR21_data\\test_reference_images\\Test_Ref_01.jpg\"\n",
    "img = cv2.imread(img_path)\n",
    "img = cv2.cvtColor(img, cv2.COLOR_BGR2RGB)\n",
    "img = cv2.resize(img, (160, 160)) / 255.0\n",
    "img = torch.tensor(img, dtype=torch.float32).permute(2, 0, 1).unsqueeze(0).to(device)\n",
    "\n",
    "# Extract features\n",
    "with torch.no_grad():\n",
    "    test_embedding = model(img).cpu().numpy().flatten()\n",
    "\n",
    "# Compare with stored embeddings\n",
    "best_match = None\n",
    "best_distance = float(\"inf\")\n",
    "for person, embedding in face_embeddings.items():\n",
    "    distance = np.linalg.norm(test_embedding - embedding)\n",
    "    if distance < best_distance:\n",
    "        best_distance = distance\n",
    "        best_match = person\n",
    "\n",
    "# Display result\n",
    "if best_distance < 1.2:  # Adjust threshold if needed\n",
    "    print(f\"Recognized: {best_match} (distance: {best_distance:.2f})\")\n",
    "else:\n",
    "    print(\"No match found!\")"
   ]
  },
  {
   "cell_type": "code",
   "execution_count": null,
   "id": "d6b6f981-8faa-4475-97b0-742b45571576",
   "metadata": {},
   "outputs": [],
   "source": []
  }
 ],
 "metadata": {
  "kernelspec": {
   "display_name": "Python 3 (ipykernel)",
   "language": "python",
   "name": "python3"
  },
  "language_info": {
   "codemirror_mode": {
    "name": "ipython",
    "version": 3
   },
   "file_extension": ".py",
   "mimetype": "text/x-python",
   "name": "python",
   "nbconvert_exporter": "python",
   "pygments_lexer": "ipython3",
   "version": "3.9.21"
  }
 },
 "nbformat": 4,
 "nbformat_minor": 5
}
